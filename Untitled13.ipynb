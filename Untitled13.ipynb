{
  "nbformat": 4,
  "nbformat_minor": 0,
  "metadata": {
    "colab": {
      "provenance": [],
      "authorship_tag": "ABX9TyM3g790DgG+vi8oD2haefNo",
      "include_colab_link": true
    },
    "kernelspec": {
      "name": "python3",
      "display_name": "Python 3"
    },
    "language_info": {
      "name": "python"
    }
  },
  "cells": [
    {
      "cell_type": "markdown",
      "metadata": {
        "id": "view-in-github",
        "colab_type": "text"
      },
      "source": [
        "<a href=\"https://colab.research.google.com/github/ganesh-2288/batch/blob/main/Untitled13.ipynb\" target=\"_parent\"><img src=\"https://colab.research.google.com/assets/colab-badge.svg\" alt=\"Open In Colab\"/></a>"
      ]
    },
    {
      "cell_type": "code",
      "execution_count": 1,
      "metadata": {
        "colab": {
          "base_uri": "https://localhost:8080/"
        },
        "id": "sYKrYKhmAz5_",
        "outputId": "b4e78486-0763-4e9a-c342-30acf5c5fed7"
      },
      "outputs": [
        {
          "output_type": "stream",
          "name": "stdout",
          "text": [
            "Collecting hmmlearn\n",
            "  Downloading hmmlearn-0.3.2-cp310-cp310-manylinux_2_17_x86_64.manylinux2014_x86_64.whl.metadata (2.9 kB)\n",
            "Requirement already satisfied: numpy>=1.10 in /usr/local/lib/python3.10/dist-packages (from hmmlearn) (1.26.4)\n",
            "Requirement already satisfied: scikit-learn!=0.22.0,>=0.16 in /usr/local/lib/python3.10/dist-packages (from hmmlearn) (1.3.2)\n",
            "Requirement already satisfied: scipy>=0.19 in /usr/local/lib/python3.10/dist-packages (from hmmlearn) (1.13.1)\n",
            "Requirement already satisfied: joblib>=1.1.1 in /usr/local/lib/python3.10/dist-packages (from scikit-learn!=0.22.0,>=0.16->hmmlearn) (1.4.2)\n",
            "Requirement already satisfied: threadpoolctl>=2.0.0 in /usr/local/lib/python3.10/dist-packages (from scikit-learn!=0.22.0,>=0.16->hmmlearn) (3.5.0)\n",
            "Downloading hmmlearn-0.3.2-cp310-cp310-manylinux_2_17_x86_64.manylinux2014_x86_64.whl (161 kB)\n",
            "\u001b[2K   \u001b[90m━━━━━━━━━━━━━━━━━━━━━━━━━━━━━━━━━━━━━━━━\u001b[0m \u001b[32m161.1/161.1 kB\u001b[0m \u001b[31m5.3 MB/s\u001b[0m eta \u001b[36m0:00:00\u001b[0m\n",
            "\u001b[?25hInstalling collected packages: hmmlearn\n",
            "Successfully installed hmmlearn-0.3.2\n",
            "Observation sequence: ['Dry', 'Damp', 'Wet', 'Dry', 'Damp']\n",
            "Predicted hidden states: ['Sunny', 'Rainy', 'Rainy', 'Sunny', 'Rainy']\n",
            "New Observation sequence: ['Wet', 'Wet', 'Damp', 'Dry']\n",
            "Predicted hidden states for new sequence: ['Rainy', 'Rainy', 'Rainy', 'Sunny']\n"
          ]
        }
      ],
      "source": [
        "!pip install hmmlearn\n",
        "import numpy as np\n",
        "from hmmlearn import hmm\n",
        "\n",
        "# Define the number of hidden states\n",
        "n_states = 2\n",
        "\n",
        "# Hidden states\n",
        "states = [\"Sunny\", \"Rainy\"]\n",
        "\n",
        "# Observations\n",
        "observations = [\"Dry\", \"Damp\", \"Wet\"]\n",
        "\n",
        "# Transition probabilities matrix\n",
        "transition_prob = np.array([\n",
        "    [0.8, 0.2],  # Sunny -> Sunny, Rainy\n",
        "    [0.4, 0.6]   # Rainy -> Sunny, Rainy\n",
        "])\n",
        "\n",
        "# Emission probabilities matrix (means and variances for GaussianHMM)\n",
        "# Here we are assuming Gaussian distribution for demonstration purposes\n",
        "means = np.array([[0.0], [1.0]])  # Example means\n",
        "covars = np.array([[0.1], [0.1]]) # Example variances\n",
        "\n",
        "# Initial probabilities vector\n",
        "start_prob = np.array([0.6, 0.4])  # Sunny, Rainy\n",
        "\n",
        "# Create HMM model\n",
        "model = hmm.GaussianHMM(n_components=n_states, covariance_type=\"diag\")\n",
        "model.startprob_ = start_prob\n",
        "model.transmat_ = transition_prob\n",
        "model.means_ = means\n",
        "model.covars_ = covars\n",
        "\n",
        "# Define the sequence of observations\n",
        "observation_sequence = np.array([0, 1, 2, 0, 1]).reshape(-1, 1)\n",
        "\n",
        "# Predict the hidden states based on the observation sequence using the Viterbi algorithm\n",
        "logprob, hidden_states = model.decode(observation_sequence, algorithm=\"viterbi\")\n",
        "\n",
        "print(\"Observation sequence:\", [observations[i[0]] for i in observation_sequence])\n",
        "print(\"Predicted hidden states:\", [states[i] for i in hidden_states])\n",
        "\n",
        "# Change the observation sequence and see how the model's predictions change\n",
        "new_observation_sequence = np.array([2, 2, 1, 0]).reshape(-1, 1)\n",
        "logprob_new, hidden_states_new = model.decode(new_observation_sequence, algorithm=\"viterbi\")\n",
        "\n",
        "print(\"New Observation sequence:\", [observations[i[0]] for i in new_observation_sequence])\n",
        "print(\"Predicted hidden states for new sequence:\", [states[i] for i in hidden_states_new])"
      ]
    }
  ]
}