{
  "nbformat": 4,
  "nbformat_minor": 0,
  "metadata": {
    "colab": {
      "provenance": [],
      "authorship_tag": "ABX9TyNHrNrLWHJOdL6tJ3VdafnJ",
      "include_colab_link": true
    },
    "kernelspec": {
      "name": "python3",
      "display_name": "Python 3"
    },
    "language_info": {
      "name": "python"
    }
  },
  "cells": [
    {
      "cell_type": "markdown",
      "metadata": {
        "id": "view-in-github",
        "colab_type": "text"
      },
      "source": [
        "<a href=\"https://colab.research.google.com/github/ganesh-2288/batch/blob/main/Untitled2.ipynb\" target=\"_parent\"><img src=\"https://colab.research.google.com/assets/colab-badge.svg\" alt=\"Open In Colab\"/></a>"
      ]
    },
    {
      "cell_type": "code",
      "execution_count": 1,
      "metadata": {
        "colab": {
          "base_uri": "https://localhost:8080/",
          "height": 173
        },
        "id": "3anLgh9otHJb",
        "outputId": "dbb256de-d4ab-431a-9bc7-42e688623f2b"
      },
      "outputs": [
        {
          "output_type": "stream",
          "name": "stdout",
          "text": [
            "Missing values in each colume:\n",
            "Name      1\n",
            "Age       2\n",
            "Gender    1\n",
            "City      0\n",
            "dtype: int64\n",
            "Number of duplicate rows: 0\n"
          ]
        },
        {
          "output_type": "stream",
          "name": "stderr",
          "text": [
            "[nltk_data] Downloading package punkt to /root/nltk_data...\n",
            "[nltk_data]   Unzipping tokenizers/punkt.zip.\n"
          ]
        },
        {
          "output_type": "display_data",
          "data": {
            "text/plain": [
              "<IPython.core.display.Javascript object>"
            ],
            "application/javascript": [
              "\n",
              "    async function download(id, filename, size) {\n",
              "      if (!google.colab.kernel.accessAllowed) {\n",
              "        return;\n",
              "      }\n",
              "      const div = document.createElement('div');\n",
              "      const label = document.createElement('label');\n",
              "      label.textContent = `Downloading \"${filename}\": `;\n",
              "      div.appendChild(label);\n",
              "      const progress = document.createElement('progress');\n",
              "      progress.max = size;\n",
              "      div.appendChild(progress);\n",
              "      document.body.appendChild(div);\n",
              "\n",
              "      const buffers = [];\n",
              "      let downloaded = 0;\n",
              "\n",
              "      const channel = await google.colab.kernel.comms.open(id);\n",
              "      // Send a message to notify the kernel that we're ready.\n",
              "      channel.send({})\n",
              "\n",
              "      for await (const message of channel.messages) {\n",
              "        // Send a message to notify the kernel that we're ready.\n",
              "        channel.send({})\n",
              "        if (message.buffers) {\n",
              "          for (const buffer of message.buffers) {\n",
              "            buffers.push(buffer);\n",
              "            downloaded += buffer.byteLength;\n",
              "            progress.value = downloaded;\n",
              "          }\n",
              "        }\n",
              "      }\n",
              "      const blob = new Blob(buffers, {type: 'application/binary'});\n",
              "      const a = document.createElement('a');\n",
              "      a.href = window.URL.createObjectURL(blob);\n",
              "      a.download = filename;\n",
              "      div.appendChild(a);\n",
              "      a.click();\n",
              "      div.remove();\n",
              "    }\n",
              "  "
            ]
          },
          "metadata": {}
        },
        {
          "output_type": "display_data",
          "data": {
            "text/plain": [
              "<IPython.core.display.Javascript object>"
            ],
            "application/javascript": [
              "download(\"download_fab48664-c7b3-461f-9eac-dcda3400fb82\", \"segmented_text_dataset.csv\", 821)"
            ]
          },
          "metadata": {}
        }
      ],
      "source": [
        "import pandas as pd\n",
        "#ambuguity removal\n",
        "#create a sample dataset\n",
        "data = {\n",
        "    'Name':['alica','bob','charle','david','eve','frank','alice',None],\n",
        "    'Age':[25,None,23,35,None,45,25,29],\n",
        "    'Gender':['F','M','M','M',None,'M','F','F'],\n",
        "    'City':['New york','Los angles','New york','Houston','Los angles','Houston','New york','New york']\n",
        "\n",
        "\n",
        "}\n",
        "df = pd.DataFrame(data)\n",
        "df.head(10)\n",
        "#check for missing values\n",
        "print(\"Missing values in each colume:\")\n",
        "print(df.isnull().sum())\n",
        "# # Option 1: Remove rows with missing values\n",
        "df_cleaned = df.dropna()\n",
        "# Option 2: Fill missing values\n",
        "# For example, fill missing 'Age' with the mean age, and 'Name' with a placeholder\n",
        "# df['Age'] = df['Age'].fillna(df['Age'].mean())\n",
        "# df['Name'] = df['Name'].fillna('Unknown')\n",
        "# Display the cleaned data after handling missing values\n",
        "df_cleaned.head(10)\n",
        "# Check for duplicates\n",
        "print(\"Number of duplicate rows:\", df_cleaned.duplicated().sum())\n",
        "# Remove duplicate rows\n",
        "df_cleaned = df_cleaned.drop_duplicates()\n",
        "# Display the data after removing duplicates\n",
        "df_cleaned.head(10)\n",
        "# Standardize text data by converting to lowercase\n",
        "df_cleaned['Gender'] = df_cleaned['Gender'].str.lower()\n",
        "# Correcting inconsistent data, e.g., standardizing 'f' and 'm'\n",
        "df_cleaned['Gender'] = df_cleaned['Gender'].replace({'f': 'Female', 'm': 'Male'})\n",
        "# Display the cleaned data after standardization\n",
        "df_cleaned.head(10)\n",
        "# No irrelevant columns in this case, but here's how you'd drop them if needed:\n",
        "# df_cleaned = df_cleaned.drop(['Irrelevant_Column'], axis=1)\n",
        "# Display the final cleaned data\n",
        "df_cleaned.head(10)\n",
        "# Save the cleaned dataset\n",
        "cleaned_file_path = 'cleaned_sample_dataset.csv'\n",
        "df_cleaned.to_csv(cleaned_file_path,index=False)\n",
        "# Segmentation\n",
        "import nltk\n",
        "from nltk.tokenize import word_tokenize, sent_tokenize\n",
        "# Download necessary NLTK data\n",
        "nltk.download('punkt')\n",
        "import pandas as pd\n",
        "# Create a sample dataset with text data\n",
        "data = {\n",
        "    'Text': [\n",
        "            \"Hello! My name is Alice. I love programming.\",\n",
        "                    \"Python is a great programming language. It's widely used in data science.\",\n",
        "                            \"This is an example of text segmentation.\",\n",
        "                                    \"NLTK is a useful library for text processing.\"\n",
        "                                        ]\n",
        "                                        }\n",
        "df = pd.DataFrame(data)\n",
        "# Display the dataset\n",
        "df.head()\n",
        "# Apply sentence segmentation\n",
        "df['Sentences'] = df['Text'].apply(sent_tokenize)\n",
        "# Display the segmented sentences\n",
        "df[['Text', 'Sentences']].head()\n",
        "# Apply word segmentation\n",
        "df['Words'] = df['Text'].apply(word_tokenize)\n",
        "# Display the segmented words\n",
        "df[['Text', 'Words']].head()\n",
        "# Save the segmented dataset\n",
        "segmented_file_path = 'segmented_text_dataset.csv'\n",
        "df.to_csv(segmented_file_path, index=False)\n",
        "from google.colab import files\n",
        "files.download(segmented_file_path)"
      ]
    }
  ]
}