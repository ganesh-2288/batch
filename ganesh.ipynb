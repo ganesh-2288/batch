{
  "nbformat": 4,
  "nbformat_minor": 0,
  "metadata": {
    "colab": {
      "provenance": [],
      "authorship_tag": "ABX9TyNvXlFv1H5H8dNem0B452tI",
      "include_colab_link": true
    },
    "kernelspec": {
      "name": "python3",
      "display_name": "Python 3"
    },
    "language_info": {
      "name": "python"
    }
  },
  "cells": [
    {
      "cell_type": "markdown",
      "metadata": {
        "id": "view-in-github",
        "colab_type": "text"
      },
      "source": [
        "<a href=\"https://colab.research.google.com/github/ganesh-2288/batch/blob/main/ganesh.ipynb\" target=\"_parent\"><img src=\"https://colab.research.google.com/assets/colab-badge.svg\" alt=\"Open In Colab\"/></a>"
      ]
    },
    {
      "cell_type": "code",
      "execution_count": null,
      "metadata": {
        "colab": {
          "base_uri": "https://localhost:8080/"
        },
        "id": "CTmc_zrB9DpV",
        "outputId": "964e2798-41a6-41ae-d45e-e674374a5f61"
      },
      "outputs": [
        {
          "output_type": "stream",
          "name": "stdout",
          "text": [
            "The adjacency List representing the graph is:\n",
            "{0: [1, 3], 1: [0, 2, 3], 2: [4, 1, 5], 3: [4, 0, 1], 4: [2, 3, 5], 5: [4, 2]}\n",
            "BFS traversal of graph with source 0 is:\n",
            "0-->1-->3-->2-->4-->5-->"
          ]
        }
      ],
      "source": [
        "from queue import Queue\n",
        "\n",
        "graph = {0: [1, 3], 1: [0, 2, 3], 2: [4, 1, 5], 3: [4, 0, 1], 4: [2, 3, 5], 5: [4, 2]}\n",
        "\n",
        "print(\"The adjacency List representing the graph is:\")\n",
        "print(graph)\n",
        "\n",
        "\n",
        "def bfs(graph, source):\n",
        "    Q = Queue()\n",
        "    visited_vertices = set()\n",
        "    Q.put(source)\n",
        "    visited_vertices.update({0})\n",
        "    while not Q.empty():\n",
        "          vertex = Q.get()\n",
        "          print(vertex, end=\"-->\")\n",
        "          for u in graph[vertex]:\n",
        "              if u not in visited_vertices:\n",
        "                 Q.put(u)\n",
        "                 visited_vertices.update({u})\n",
        "\n",
        "\n",
        "print(\"BFS traversal of graph with source 0 is:\")\n",
        "bfs(graph, 0)"
      ]
    },
    {
      "cell_type": "code",
      "source": [
        "graph1 = {\n",
        "    'A' : ['B','S'],\n",
        "    'B' : ['A'],\n",
        "    'C' : ['D','E','F','S'],\n",
        "    'D' : ['C'],\n",
        "    'E' : ['C','H'],\n",
        "    'F' : ['C','G'],\n",
        "    'G' : ['F','S'],\n",
        "    'H' : ['E','G'],\n",
        "    'S' : ['A','C','G']\n",
        "}\n",
        "\n",
        "def dfs(graph, node, visited):\n",
        "    if node not in visited:\n",
        "        visited.append(node)\n",
        "        for k in graph[node]:\n",
        "            dfs(graph,k, visited)\n",
        "    return visited\n",
        "visited = dfs(graph1,'D', [])\n",
        "print(visited)\n"
      ],
      "metadata": {
        "colab": {
          "base_uri": "https://localhost:8080/"
        },
        "id": "E2nEnqQL-6fR",
        "outputId": "d9d7aaf2-c955-413d-8c05-4f60f0c4a761"
      },
      "execution_count": null,
      "outputs": [
        {
          "output_type": "stream",
          "name": "stdout",
          "text": [
            "['D', 'C', 'E', 'H', 'G', 'F', 'S', 'A', 'B']\n"
          ]
        }
      ]
    },
    {
      "cell_type": "code",
      "source": [
        "from copy import deepcopy\n",
        "import numpy as np\n",
        "import time\n",
        "\n",
        "def bestsolution(state):\n",
        "    beslsol = np.array([], int).reshape(-1, 9)\n",
        "    count = len(state) - 1\n",
        "    while count != -1:\n",
        "        bestsol = np.insert(bestsol, 0, state[count]['puzzle'], 0)\n",
        "        count = (state[count]['parent'])\n",
        "    return bestsol.reshape(-1, 3, 3)\n",
        "\n",
        "def all(checkarray):\n",
        "          set=[]\n",
        "          for it in set:\n",
        "            for checkarray in it:\n",
        "              return 1\n",
        "          else:\n",
        "                  return 0\n",
        "\n",
        "\n",
        "\n",
        "def misplased_tiles(puzzle,goal):\n",
        "          mscost = np.sum(puzzle !=goal) - 1\n",
        "          return mscost if mscost > 0 else 0\n",
        "\n",
        "\n",
        "def coordinates(puzzle,goal):\n",
        "                  pos = np.array(range(9))\n",
        "                  for p, q in enumerate(puzzle):\n",
        "                      pos[q] = p\n",
        "                      return pos\n",
        "\n",
        "\n",
        "def evaluvate_misplaced(puzzle, gole):\n",
        "    steps = np.array([('up' , [0, 1, 2], -3),('down',[6, 7, 8], 3),('left',[0, 3, 6], -1),('right', [2, 5, 8], 1)],\n",
        "                dtype = [('move', str, 1),('position', list),('head', int)])\n",
        "\n",
        "    dtstate = [('puzzle', list),('parent', int),('gn', int),('hn', int)]\n",
        "\n",
        "    costg = coordinates(goal)\n",
        "\n",
        "    parent = -1\n",
        "    gn = 0\n",
        "    hn = misplaced_tiles(coordinates(puzzle), costg)\n",
        "    state = np.array([(puzzle, parant, gn, hn)], dtstate)\n",
        "\n",
        "    dtpriority = [('position', int),('fn', int)]\n",
        "\n",
        "    priority = np.array([(0, hn)], dtpriority)\n",
        "\n",
        "    while 1:\n",
        "       priority = np.sort(priority, kind='mergesort', order=['fn', 'position'])\n",
        "       position, fn = priority[0]\n",
        "\n",
        "       priority = np.delete(priority, 0 ,0)\n",
        "       puzzle, parent, gn, hn = state[position]\n",
        "       puzzle = np.array(puzzle)\n",
        "\n",
        "       blank = int(np.where(puzzle == 0)[0])\n",
        "\n",
        "       gn = gn + 1\n",
        "       c = 1\n",
        "       staet_time = time.time()\n",
        "       for s in steps:\n",
        "           c = c + 1\n",
        "           if blank not in s['position']:\n",
        "               openstates = deepcopy(puzzle)\n",
        "               openstates[blank], openstates[blank + s['head']] = openstates[blank]\n",
        "\n",
        "               if ~(np.all(list(state['puzzle']) == openstates, 1)).any():\n",
        "                  end_time = time.time()\n",
        "                  if ((end_time - stare_time) > 2):\n",
        "                      print(\" the 8 puzzle is unsolvable \\n\")\n",
        "                      break\n",
        "\n",
        "                  hn = mosplaced_tiles(coordinates(openstates), costg)\n",
        "\n",
        "                  q = np.array([(openstates, position, gn,hn)], dtstate)\n",
        "                  state = np.append(state, q,0)"
      ],
      "metadata": {
        "id": "XzMZ2cp5BZOH"
      },
      "execution_count": null,
      "outputs": []
    }
  ]
}