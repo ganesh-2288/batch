{
  "nbformat": 4,
  "nbformat_minor": 0,
  "metadata": {
    "colab": {
      "provenance": []
    },
    "kernelspec": {
      "name": "python3",
      "display_name": "Python 3"
    },
    "language_info": {
      "name": "python"
    }
  },
  "cells": [
    {
      "cell_type": "code",
      "execution_count": null,
      "metadata": {
        "colab": {
          "base_uri": "https://localhost:8080/"
        },
        "id": "Ovq-gZ7BGxVm",
        "outputId": "7384f37c-2e55-4f93-c776-d46a6a9c6294"
      },
      "outputs": [
        {
          "output_type": "stream",
          "name": "stdout",
          "text": [
            "mahen\n",
            "mahendra\n"
          ]
        }
      ],
      "source": [
        "import keyword\n",
        "print('%.5s'%'mahendra')\n",
        "print('%.9s'%'mahendra')"
      ]
    },
    {
      "cell_type": "code",
      "source": [
        "a=2+2\n",
        "print(a)\n",
        "#print(type(a))\n",
        "b,c,d=5.0,86,'hi'\n",
        "print(type(a))\n",
        "print(type(b))\n",
        "print(type(c))\n",
        "print(type(d))"
      ],
      "metadata": {
        "colab": {
          "base_uri": "https://localhost:8080/"
        },
        "id": "VxBPzymhJsSV",
        "outputId": "12c31a25-5ef4-4dbf-90a1-e44d1c15789e"
      },
      "execution_count": null,
      "outputs": [
        {
          "output_type": "stream",
          "name": "stdout",
          "text": [
            "4\n",
            "<class 'int'>\n",
            "<class 'float'>\n",
            "<class 'int'>\n",
            "<class 'str'>\n"
          ]
        }
      ]
    },
    {
      "cell_type": "code",
      "source": [
        "e=d+str(a)\n",
        "print(e)"
      ],
      "metadata": {
        "colab": {
          "base_uri": "https://localhost:8080/"
        },
        "id": "YQ6wimWZK0S8",
        "outputId": "25f49106-0c31-41ec-ae2d-587078ef2aca"
      },
      "execution_count": null,
      "outputs": [
        {
          "output_type": "stream",
          "name": "stdout",
          "text": [
            "hi4\n"
          ]
        }
      ]
    },
    {
      "cell_type": "markdown",
      "source": [
        "different ways to **print**"
      ],
      "metadata": {
        "id": "UHLVX1ZxOyBu"
      }
    },
    {
      "cell_type": "code",
      "source": [
        "name=\"virat\"\n",
        "Number=18\n",
        "print(name,Number)\n",
        "print(name+\" \"+str(Number))  #concat\n",
        "print(\"Name: \"+name+\"\\nNumber: \"+str(Number))\n",
        "print(\"Name:{},Number:{}\".format(name,Number))\n",
        "print(\"Name:{0},Number:{0}\".format(name,Number))\n",
        "print(\"Name:{1},Number:{0}\".format(name,Number))\n",
        "print(\"Name:{a},Number:{b}\".format(a=name,b=Number))\n",
        "print(\"Name:%s,Number:%d\"%(name,Number))"
      ],
      "metadata": {
        "id": "NP75zUzpM1tu",
        "colab": {
          "base_uri": "https://localhost:8080/"
        },
        "outputId": "a3724d50-2ed1-4466-cca4-27752ff753f8"
      },
      "execution_count": null,
      "outputs": [
        {
          "output_type": "stream",
          "name": "stdout",
          "text": [
            "virat 18\n",
            "virat 18\n",
            "Name: virat\n",
            "Number: 18\n",
            "Name:virat,Number:18\n",
            "Name:virat,Number:virat\n",
            "Name:18,Number:virat\n",
            "Name:virat,Number:18\n",
            "Name:virat,Number:18\n"
          ]
        }
      ]
    },
    {
      "cell_type": "markdown",
      "source": [
        "# DAY-2\n",
        "\n",
        "*   5 types of operations in all programming language in python 2 mor operators where added membership o/p, identity o/p\n",
        "\n",
        "***operations*** membership\n",
        "\n",
        "\n",
        "*   the function is  performing the operation \"is in\",\"not in\"\n",
        "*   SYNTAX:   print(3 in my_list)\n",
        "*   it check the object or a value is present in that variable or not\n",
        "\n",
        "\n",
        "\n",
        "\n",
        "\n",
        "\n"
      ],
      "metadata": {
        "id": "EpiexglyO-D0"
      }
    },
    {
      "cell_type": "code",
      "source": [
        "my_list=[1,2,3,4,5,6,7,8,9]\n",
        "print(3 in my_list)\n",
        "print(3 not in my_list)"
      ],
      "metadata": {
        "id": "4ya_SqboPFQf",
        "colab": {
          "base_uri": "https://localhost:8080/"
        },
        "outputId": "79eb00d6-44b3-4864-9fd5-c7f013298fb3"
      },
      "execution_count": null,
      "outputs": [
        {
          "output_type": "stream",
          "name": "stdout",
          "text": [
            "True\n",
            "False\n"
          ]
        }
      ]
    },
    {
      "cell_type": "markdown",
      "source": [
        "***IDENTITY OPERATOR***"
      ],
      "metadata": {
        "id": "JSq87KHfx6xk"
      }
    },
    {
      "cell_type": "code",
      "source": [
        "x = [1, 2, 3]\n",
        "y = x  # y now refers to the same object as x\n",
        "z = [1, 2, 3]  # z is a new object, even though it has the same values as x\n",
        "a = z\n",
        "\n",
        "print(x is y)  # Output: True\n",
        "print(x is z)  # Output: False\n",
        "print(x is not z)  # Output: True\n",
        "print(a is x)# it accept only the variable that has used to storeb in another varible"
      ],
      "metadata": {
        "colab": {
          "base_uri": "https://localhost:8080/"
        },
        "id": "VhEycVfpybU1",
        "outputId": "ad587820-74f7-46e0-8b22-824258201d79"
      },
      "execution_count": null,
      "outputs": [
        {
          "output_type": "stream",
          "name": "stdout",
          "text": [
            "True\n",
            "False\n",
            "True\n",
            "False\n"
          ]
        }
      ]
    },
    {
      "cell_type": "markdown",
      "source": [
        " SWAPING OF A NUMBER"
      ],
      "metadata": {
        "id": "vjwzCQwt1ZNH"
      }
    },
    {
      "cell_type": "code",
      "source": [
        "a=2\n",
        "b=3\n",
        "#logic 1\n",
        "temp = a\n",
        "a=b\n",
        "b=temp\n",
        "print(a,b)\n",
        "\n",
        "#logic 2\n",
        "a=a^b\n",
        "b=a^b\n",
        "a=a^b\n",
        "print(a,b)"
      ],
      "metadata": {
        "colab": {
          "base_uri": "https://localhost:8080/"
        },
        "id": "aAgAYByn1iEc",
        "outputId": "412c1f2e-9ce2-47ff-f1dc-5950a9d4258c"
      },
      "execution_count": null,
      "outputs": [
        {
          "output_type": "stream",
          "name": "stdout",
          "text": [
            "3 2\n",
            "2 3\n"
          ]
        }
      ]
    },
    {
      "cell_type": "code",
      "source": [
        "a,b=2,3\n",
        "#logic 1\n",
        "a=b+a\n",
        "b=a-b\n",
        "a=a-b\n",
        "print(a,b)\n",
        "\n",
        "#logic 2\n",
        "a,b=b,a\n",
        "print(a,b)\n",
        "\n",
        "#LOGIC 3\n",
        "def swap(a,b):\n",
        "    return (b,a)\n",
        "a,b=(swap(a,b))\n",
        "print(a,b)\n",
        "\n",
        "#logic 4\n",
        "\n",
        "a=a*b   #6\n",
        "# if we give \" / \" the answer will be 2.0,3.0 if we give \" // \" it give 2,3\n",
        "b=a//b  #3\n",
        "a=a//b  #2\n",
        "print(a,b)\n",
        "\n",
        "\n",
        "#logic 5\n",
        "\n",
        "c,d=23,65\n",
        "c,d=[d,c] #using list\n",
        "print(c,d)"
      ],
      "metadata": {
        "colab": {
          "base_uri": "https://localhost:8080/"
        },
        "id": "AAR158df2JHf",
        "outputId": "0003421f-6f97-4823-87a9-a07b2f767814"
      },
      "execution_count": null,
      "outputs": [
        {
          "output_type": "stream",
          "name": "stdout",
          "text": [
            "3 2\n",
            "2 3\n",
            "3 2\n",
            "2 3\n",
            "65 23\n"
          ]
        }
      ]
    },
    {
      "cell_type": "markdown",
      "source": [
        "# ***control statement***\n",
        "\n",
        "\n",
        "\n",
        "1.   condition conteolflow\n",
        "\n",
        "\n",
        "*   if\n",
        "*   if else\n",
        "*   if elif else\n",
        "*   nested if\n",
        "*   nested ifelse\n",
        "\n",
        "\n",
        "2.   uncondition conteolflow\n",
        "\n",
        "\n",
        "*   break: Terminates the current loop and resumes execution at the next statement after the loop. Typically used inside for or while loops.\n",
        "*   continue:Skips the remaining code in the current iteration of a loop and proceeds to the next iteration. Also used inside loops.\n",
        "*   pass:A null operation; it does nothing. Often used as a placeholder when code is required syntactically but no action is needed.\n",
        "\n",
        "# ***LOOPING STATEMENT***\n",
        "\n",
        "*   for loop\n",
        "*   while loop\n",
        "\n"
      ],
      "metadata": {
        "id": "4l_Nggof9FIJ"
      }
    },
    {
      "cell_type": "markdown",
      "source": [
        "# ***TERNARY OPERATOR***\n",
        "\n",
        "\n",
        "*   SYNTAX : result = value_if_true if condition else value_if_false\n",
        "\n",
        "\n"
      ],
      "metadata": {
        "id": "brBoQALq-cfC"
      }
    },
    {
      "cell_type": "code",
      "source": [
        "# EXAMPLE\n",
        "age = int(input())\n",
        "status = \"adult\" if age >= 18 else \"minor\"\n",
        "print(status)  # Output: adult"
      ],
      "metadata": {
        "colab": {
          "base_uri": "https://localhost:8080/"
        },
        "id": "mZdZap9T9LVi",
        "outputId": "6f6210d7-34fb-4ef6-bdb6-f7ad29324142"
      },
      "execution_count": null,
      "outputs": [
        {
          "output_type": "stream",
          "name": "stdout",
          "text": [
            "3\n",
            "minor\n"
          ]
        }
      ]
    },
    {
      "cell_type": "markdown",
      "source": [
        "# problem 1\n",
        "Get two integers x and y from the user and write a python program to relate 2 integers as equal to, less than or greater than. Input format: Input consist of 2 integers The first input corresponds to the first number(x) The second input corresponds to the second number(y) Output format: If the first number is equal to the second number, print \"x and y are equal\". Otherwise, print \"x greater than y\" or \"x less than y\"\n",
        "\n",
        "\n",
        "Input (stdin)\n",
        "\n",
        "17\n",
        "12\n",
        "\n",
        "Output (stdout)\n",
        "\n",
        "17 greater than 12\n",
        "\n",
        "Input (stdin)\n",
        "\n",
        "3\n",
        "4\n",
        "\n",
        "Output (stdout)\n",
        "\n",
        "3 less than 4\n",
        "\n",
        "dont use print(a greater then b)"
      ],
      "metadata": {
        "id": "kx4T1GaBApLv"
      }
    },
    {
      "cell_type": "code",
      "source": [
        "i,j=int(input()),int(input())\n",
        "if(i==j):\n",
        "  print(\"{a} and {b} are equal\".format(a=i,b=j))\n",
        "elif(i>j):\n",
        "  #print(\"{} greater than {}\".format(i,j))\n",
        "  print(\"%d greater than %d\" %(i,j))\n",
        "else:\n",
        "  print(\"{1} less than {0}\".format(i,j))"
      ],
      "metadata": {
        "colab": {
          "base_uri": "https://localhost:8080/"
        },
        "id": "-h9_ukZTAqm9",
        "outputId": "8772813b-832d-4e2f-cde8-794c206709c2"
      },
      "execution_count": null,
      "outputs": [
        {
          "output_type": "stream",
          "name": "stdout",
          "text": [
            "2\n",
            "1\n",
            "2 greater than 1\n"
          ]
        }
      ]
    },
    {
      "cell_type": "markdown",
      "source": [
        "# problem 2\n",
        "\n",
        "Write a python program to check whether the given character is vowel or consonant. Input format: The input consist of a character Output format: The output consists of a below-given string “Vowel” / “Consonant” / “Not an alphabet”\n",
        "\n",
        "\n",
        "Input (stdin)\n",
        "\n",
        "a\n",
        "\n",
        "Output (stdout)\n",
        "\n",
        "Vowel\n",
        "\n",
        "Input (stdin)\n",
        "\n",
        "l\n",
        "\n",
        "Output (stdout)\n",
        "\n",
        "Consonant"
      ],
      "metadata": {
        "id": "QsNHpLWgKVvY"
      }
    },
    {
      "cell_type": "code",
      "source": [
        "car=str(input())\n",
        "if car.isalpha() & len(car)==1:\n",
        "  # car.lower()\n",
        "  # print(car)\n",
        "  if car in 'aeiouAEIOU':\n",
        "    print(\"Vowel\")\n",
        "  else:\n",
        "    print(\"Consonant\")\n",
        "else:\n",
        "  print(\"Not an alphabet\")\n",
        "\n",
        "\n",
        "\n"
      ],
      "metadata": {
        "colab": {
          "base_uri": "https://localhost:8080/"
        },
        "id": "cyXzv8nQKqE8",
        "outputId": "9918a8df-cbd0-4f01-979c-30d03cbd98ee"
      },
      "execution_count": null,
      "outputs": [
        {
          "output_type": "stream",
          "name": "stdout",
          "text": [
            "a\n",
            "Vowel\n"
          ]
        }
      ]
    },
    {
      "cell_type": "markdown",
      "source": [
        "# PROBLEM 3\n",
        "Dora is interested so much in gardening and she plants more trees in her garden. She plants trees in a rectangular fashion with the order of rows and columns and numbered the trees in row-wise order. She planted the mango tree only in a 1st row, 1st column and last column. So given the tree number, your task is to find whether the given tree is a mango tree or not? Write a program to check whether the given number is a mango tree or not.\n",
        "Input format:\n",
        " Input consists of 3 integers The first input denotes the number of rows The second input denotes the number of columns The third input denotes the tree number Output format: If the given number is a mango tree, print \"Yes\". Otherwise, print \"No\" Refer the sample output for formatting\n",
        "\n",
        "\n",
        "Input (stdin)\n",
        "\n",
        "5\n",
        "5\n",
        "11\n",
        "\n",
        "Output (stdout)\n",
        "\n",
        "Yes\n",
        "\n",
        "Input (stdin)\n",
        "\n",
        "2\n",
        "2\n",
        "4\n",
        "\n",
        "Output (stdout)\n",
        "\n",
        "Yes"
      ],
      "metadata": {
        "id": "ZhyP3AwsO96C"
      }
    },
    {
      "cell_type": "code",
      "source": [
        "# Get input\n",
        "rows = int(input())\n",
        "cols = int(input())\n",
        "tree_number = int(input())\n",
        "\n",
        "# Check if the tree is a mango tree\n",
        "if (tree_number <= cols or  # First row\n",
        "    tree_number % cols == 1 or  # First column\n",
        "    tree_number % cols == 0):  # Last column\n",
        "  print(\"Yes\")\n",
        "else:\n",
        "  print(\"No\")"
      ],
      "metadata": {
        "colab": {
          "base_uri": "https://localhost:8080/"
        },
        "id": "xuaFkhIVPDo4",
        "outputId": "f4692873-944a-48ef-98ea-43484068e1ba"
      },
      "execution_count": null,
      "outputs": [
        {
          "output_type": "stream",
          "name": "stdout",
          "text": [
            "5\n",
            "5\n",
            "11\n",
            "Yes\n"
          ]
        }
      ]
    },
    {
      "cell_type": "markdown",
      "source": [
        "# PROBLEM 4\n",
        "\n",
        "Write a python program to calculate the hotel tariff. The room rent is 20% high during peak seasons [April-June, November-December]. Input format: The first input containing an integer which denotes the number of the month The second input containing the floating point number which denotes the room rent per day The third input containing an integer which denotes the number of days stayed in the hotel Output format: Print the hotel tariff to be paid in floating point with 2 decimal places Refer the sample output for formatting\n",
        "\n",
        "\n",
        "Input (stdin)\n",
        "\n",
        "3\n",
        "1500\n",
        "2\n",
        "\n",
        "Output (stdout)\n",
        "\n",
        "3000.00\n",
        "\n",
        "Input (stdin)\n",
        "\n",
        "1\n",
        "1500\n",
        "3\n",
        "\n",
        "Output (stdout)\n",
        "\n",
        "4500.00"
      ],
      "metadata": {
        "id": "Y6k2u5GmWJuX"
      }
    },
    {
      "cell_type": "code",
      "source": [
        "m=int(input())\n",
        "r=float(input())\n",
        "d=int(input())\n",
        "# if m in [4,5,6,11,12]:\n",
        "#   r+=r*0.2\n",
        "#   print(f\"{r*d:.2f}\") #or\n",
        "#   print(f\"{total:.2f}\")\n",
        "if m == 4 or m == 5 or m == 6 or m == 11 or m == 12 :\n",
        "  r+=r*0.2\n",
        "  print(f\"{r*d:.2f}\")\n",
        "else:\n",
        "  print(\"%.2f\"%(r*d))"
      ],
      "metadata": {
        "colab": {
          "base_uri": "https://localhost:8080/"
        },
        "id": "VMyKZ3DiWTWh",
        "outputId": "45d759e9-1c8d-4bb5-a9f6-c0d2e553a449"
      },
      "execution_count": null,
      "outputs": [
        {
          "output_type": "stream",
          "name": "stdout",
          "text": [
            "1\n",
            "1500\n",
            "3\n",
            "4500.00\n"
          ]
        }
      ]
    },
    {
      "cell_type": "markdown",
      "source": [
        "# PROBLEM 5\n",
        "\n",
        "A microwave oven manufacturer recommends that when heating two items, add 50% to the heating time, and when heating three items double the heating time. Heating more than three items at once is not recommended. Write a python program to find out the recommended heating time. Input format: The first input containing an integer which denotes the number of items The second input containing the floating point number which denotes the single item heating time. Output format: Print the recommended heating time in floating point with 2 decimal places. If the number of items is more than three, print \"Number of items is more\" Refer the sample output for formatting\n",
        "\n",
        "\n",
        "Input (stdin)\n",
        "\n",
        "2\n",
        "5.0\n",
        "\n",
        "Output (stdout)\n",
        "\n",
        "7.50\n",
        "\n",
        "Input (stdin)\n",
        "\n",
        "3\n",
        "6.5\n",
        "\n",
        "Output (stdout)\n",
        "\n",
        "13.00"
      ],
      "metadata": {
        "id": "AzUPDB6BcTlh"
      }
    },
    {
      "cell_type": "code",
      "source": [
        "i=int(input())\n",
        "t=float(input())\n",
        "if i == 2:\n",
        "  t+= t*0.5\n",
        "  print(\"%.2f\"%(t))\n",
        "elif i== 3:\n",
        "  t+=t*1\n",
        "  print(\"%.2f\"%(t))\n",
        "else:\n",
        "  print(\"Number of items is more\")"
      ],
      "metadata": {
        "colab": {
          "base_uri": "https://localhost:8080/"
        },
        "id": "A6FMCf9WcYgj",
        "outputId": "90cb6a6e-f3a1-4169-a984-fd51f6affb7c"
      },
      "execution_count": null,
      "outputs": [
        {
          "output_type": "stream",
          "name": "stdout",
          "text": [
            "3 \n",
            "6.5\n",
            "13.00\n"
          ]
        }
      ]
    },
    {
      "cell_type": "markdown",
      "source": [
        "# PROBLEM 6\n",
        "There are 3 labs in the CSE department(L1, L2, and L3) with a seating capacity of x, y, and z respectively. Find the lab which has minimal seating capacity.  \n",
        "\n",
        "Input format:\n",
        "Input consists of 3 integers\n",
        "The first input denotes the seating capacity of L1(a)\n",
        "The second input denotes the seating capacity of L2(b)\n",
        "The third input denotes the seating capacity of L3(c)\n",
        "\n",
        "Output format:\n",
        "Print the minimal seating lab capacity\n",
        "Refer the Sample output for formatting\n",
        "\n",
        "Sample Input:\n",
        "30\n",
        "40\n",
        "20\n",
        "\n",
        "Sample Output:\n",
        "L3"
      ],
      "metadata": {
        "id": "EfFOJf_tqct-"
      }
    },
    {
      "cell_type": "code",
      "source": [
        "l1=int(input())\n",
        "l2=int(input())\n",
        "l3=int(input())\n",
        "# LOGIC 1\n",
        "# USING TERNARY\n",
        "r=\"L1\" if l1<l2 and l1<l3 else \"L2\" if l2<l3 else \"L3\"\n",
        "print(r)\n",
        "# LOGIC 2\n",
        "USING MIN FUNCTION\n",
        "r=min(l1,l2,l3)\n",
        "if(r==l1):\n",
        "  print(\"L1\")\n",
        "elif(r==l2):\n",
        "  print(\"L2\")\n",
        "else:\n",
        "  print(\"L3\")\n",
        "\n",
        "\n",
        "#LOGIC 3\n",
        "DIRECT METHOD\n",
        "if (l1<l2):\n",
        "  if(l1<l3):\n",
        "    print(\"L1\")\n",
        "  else:\n",
        "    print(\"L3\")\n",
        "else:\n",
        "  if(l2<l3):\n",
        "    print(\"L2\")\n",
        "  else:\n",
        "    print(\"L3\")"
      ],
      "metadata": {
        "colab": {
          "base_uri": "https://localhost:8080/"
        },
        "id": "mcrWuUfhqnFz",
        "outputId": "88aea611-3070-4d6b-da93-69f972ff7882"
      },
      "execution_count": null,
      "outputs": [
        {
          "output_type": "stream",
          "name": "stdout",
          "text": [
            "39\n",
            "99\n",
            "09\n",
            "L3\n"
          ]
        }
      ]
    },
    {
      "cell_type": "markdown",
      "source": [
        "# COMPARE THE REMAINING LABS EXCEPT THE ALLOTED LAB"
      ],
      "metadata": {
        "id": "9YFKuS36tJd3"
      }
    },
    {
      "cell_type": "code",
      "source": [
        "l1=int(input())\n",
        "l2=int(input())\n",
        "l3=int(input())\n",
        "a =str(input())\n",
        "\n",
        "if a==\"l1\":\n",
        "  if l2<l3:\n",
        "    print(\"L2\")\n",
        "  else:\n",
        "    print(\"L3\")\n",
        "elif a==\"l2\":\n",
        "  if l1<l3:\n",
        "    print(\"L1\")\n",
        "  else:\n",
        "    print(\"L3\")\n",
        "else:\n",
        "  if l1<l2:\n",
        "    print(\"L1\")\n",
        "  else:\n",
        "    print(\"L2\")\n"
      ],
      "metadata": {
        "colab": {
          "base_uri": "https://localhost:8080/"
        },
        "id": "b8XG8uU9tKRR",
        "outputId": "885bf621-25b6-4789-d060-65fb66503bb1"
      },
      "execution_count": null,
      "outputs": [
        {
          "output_type": "stream",
          "name": "stdout",
          "text": [
            "2\n",
            "3\n",
            "5\n",
            "L2\n",
            "L1\n"
          ]
        }
      ]
    },
    {
      "cell_type": "markdown",
      "source": [
        "# SEATTING LAB FOR NO. OF STUDENTS"
      ],
      "metadata": {
        "id": "h1HOde9nw5ME"
      }
    },
    {
      "cell_type": "code",
      "source": [
        "l1=int(input())\n",
        "l2=int(input())\n",
        "l3=int(input())\n",
        "n=int(input())\n",
        "if n<=l1:\n",
        "  print(\"L1\")\n",
        "elif n<=l2:\n",
        "  print(\"L2\")\n",
        "elif n<=l3:\n",
        "  print(\"L3\")\n",
        "else:\n",
        "  print(\"THERE IS NO LAB FOR YOUR SEATTING ARRANGEMENT\")"
      ],
      "metadata": {
        "colab": {
          "base_uri": "https://localhost:8080/"
        },
        "id": "O7fOol64wMG2",
        "outputId": "3cdce6a5-decd-446d-d408-7d8b09ae6a8a"
      },
      "execution_count": null,
      "outputs": [
        {
          "output_type": "stream",
          "name": "stdout",
          "text": [
            "30\n",
            "23\n",
            "123\n",
            "99\n",
            "L3\n"
          ]
        }
      ]
    },
    {
      "cell_type": "markdown",
      "source": [
        "# PROBLEM 7\n",
        "Assume Dhoni's current age is 6. After 3 years, Dhoni's mother Devki Devi would be 4 times Dhoni's age. What is Devki Devi's current age? Write a program to determine the same.\n",
        "\n",
        "Input Format:\n",
        "First line of input consists of one integer value as age of Dhoni.\n",
        "\n",
        "Output Format:\n",
        "Output should display an integer that specifies Devki Devi's current age.\n",
        "\n",
        "Sample Input and Output1:\n",
        "input:6\n",
        "output:33\n",
        "\n",
        "Sample Input and Output2:\n",
        "input:3\n",
        "output:21"
      ],
      "metadata": {
        "id": "j-tZ7lbKxQsS"
      }
    },
    {
      "cell_type": "code",
      "source": [
        "age=int(input())\n",
        "age+=3\n",
        "age*=4\n",
        "age-=3\n",
        "print(age)"
      ],
      "metadata": {
        "colab": {
          "base_uri": "https://localhost:8080/"
        },
        "id": "FgET5BJxxrY9",
        "outputId": "a837a932-2845-4c55-82ad-ce3b4545ae70"
      },
      "execution_count": null,
      "outputs": [
        {
          "output_type": "stream",
          "name": "stdout",
          "text": [
            "6\n",
            "33\n"
          ]
        }
      ]
    },
    {
      "cell_type": "markdown",
      "source": [
        "# PROBLEM 8\n",
        "A fruit seller buys a dozen of banana at Rs.X. He sells 1 banana at Rs.Y. Write a program to determine the profit or loss in Rs. for the fruitseller.\n",
        "\n",
        "Input format:\n",
        "Input consists of 2 floating point numbers\n",
        "The first input corresponds to the total cost(X)\n",
        "The second input corresponds to the sold cost(Y)\n",
        "\n",
        "Output format:\n",
        "Print \"Profit or Loss\" with Rupees.\n",
        "\n",
        "Sample Input:\n",
        "60\n",
        "4\n",
        "\n",
        "Sample Output:\n",
        "Loss : Rs.12.00"
      ],
      "metadata": {
        "id": "zL5Bg1JA2jGR"
      }
    },
    {
      "cell_type": "code",
      "source": [
        "x=int(input())\n",
        "y=int(input())\n",
        "#profit= 12*y-x\n",
        "y*=12\n",
        "profit=y-x\n",
        "if profit<0:\n",
        "  print(\"LOSS: %.2f\"%profit)\n",
        "else:\n",
        "  print(\"PROFIT: %.2f\"%profit)"
      ],
      "metadata": {
        "colab": {
          "base_uri": "https://localhost:8080/"
        },
        "id": "mNgzTyW42kJW",
        "outputId": "4b07828b-12e1-4312-ac07-e33e586822fe"
      },
      "execution_count": null,
      "outputs": [
        {
          "output_type": "stream",
          "name": "stdout",
          "text": [
            "60\n",
            "4\n",
            "-12\n"
          ]
        }
      ]
    },
    {
      "cell_type": "markdown",
      "source": [
        "# LOOPING STATEMENTS\n",
        "# PROBLEM 9\n",
        "\n",
        "Write a program to generate the following series --- 1,4,9,16,25, .... Input format: The input containing an integer which denotes 'n' Output format: Print the series and refer the sample output for formatting\n",
        "\n",
        "\n",
        "Input (stdin)\n",
        "\n",
        "7\n",
        "\n",
        "Output (stdout)\n",
        "\n",
        "1 4 9 16 25 36 49\n",
        "\n",
        "\n",
        "\n",
        "Input (stdin)\n",
        "\n",
        "5\n",
        "\n",
        "Output (stdout)\n",
        "\n",
        "1 4 9 16 25"
      ],
      "metadata": {
        "id": "-00wQLwwBKoZ"
      }
    },
    {
      "cell_type": "code",
      "source": [
        "n=int(input())\n",
        "for i in range(1,n+1):\n",
        "  print(i*i,end=\" \")"
      ],
      "metadata": {
        "id": "6VQuyUhI2uPL"
      },
      "execution_count": null,
      "outputs": []
    },
    {
      "cell_type": "markdown",
      "source": [
        "# PROBLEM 10\n",
        "Write a program to generate the following series --- 0.5,1.5,4.5,13.5,... Input format: The input containing an integer which denotes 'n' Output format: Print the series and refer the sample output for formatting.\n",
        "\n",
        "\n",
        "Input (stdin)\n",
        "\n",
        "5\n",
        "\n",
        "Output (stdout)\n",
        "\n",
        "0.5 1.5 4.5 13.5 40.5\n",
        "\n",
        "Input (stdin)\n",
        "\n",
        "3\n",
        "\n",
        "Output (stdout)\n",
        "\n",
        "0.5 1.5 4.5"
      ],
      "metadata": {
        "id": "6-W65PyHBXr6"
      }
    },
    {
      "cell_type": "code",
      "source": [
        "n = int(input())\n",
        "j=0.5\n",
        "for i in range(1,n):\n",
        "  #j=0.5\n",
        "  j*=3\n",
        "  print(j,end=\" \")"
      ],
      "metadata": {
        "colab": {
          "base_uri": "https://localhost:8080/"
        },
        "id": "JvcXqr0MBfAa",
        "outputId": "a26bda47-5c55-4625-f085-7c17e1e29a48"
      },
      "execution_count": null,
      "outputs": [
        {
          "output_type": "stream",
          "name": "stdout",
          "text": [
            "5\n",
            "1.5 4.5 13.5 40.5 "
          ]
        }
      ]
    },
    {
      "cell_type": "markdown",
      "source": [
        "# PROBLEM 11-DAY-3\n",
        "\n",
        "The environmental eco club has discovered a new Amoeba that grows in the order of a Fibonacci series every month. They are exhibiting their amoeba in a national conference. They want to know the size of the amoeba at a particular time instant. If a particular month’s index is given, write a program to displays the amoeba’s size……??? For Example, The size of the amoeba on month 1, 2, 3, 4, 5, 6, ..will be 0, 1, 1, 2, 3, 5, 8 respectively. Input format: The first input containing an integer which denotes the number of the month Output format: Print the amoeba size. Refer the sample output for formatting.\n",
        "\n",
        "\n",
        "Input (stdin)\n",
        "\n",
        "7\n",
        "\n",
        "Output (stdout)\n",
        "\n",
        "8\n",
        "\n",
        "Input (stdin)\n",
        "\n",
        "3\n",
        "\n",
        "Output (stdout)\n",
        "\n",
        "1"
      ],
      "metadata": {
        "id": "heyNL3ycEDDP"
      }
    },
    {
      "cell_type": "code",
      "source": [
        "a, b = 0, 1\n",
        "r=[0]\n",
        "n = int(input(\"Enter the number of terms: \"))\n",
        "for i in range(n):\n",
        "  print(a)\n",
        "  a,b=b,a+b\n",
        "  r.append(a)\n",
        "print(r)\n",
        "print(r[n-1])\n",
        "\n",
        "#logic 2\n",
        "\n",
        "n=int(input(\"enter the n value\"))\n",
        "a,b=0,1\n",
        "for i in range(2,n+1):\n",
        "    a,b=b,a+b\n",
        "print(a,end=\" \")\n",
        "\n",
        "#logic 3\n",
        "\n",
        "a, b = 0, 1\n",
        "n = int(input(\"Enter the number of terms: \"))\n",
        "for i in range(n):\n",
        "  print(a)\n",
        "  r=[a]\n",
        "  a,b=b,a+b\n",
        "print(r)"
      ],
      "metadata": {
        "colab": {
          "base_uri": "https://localhost:8080/"
        },
        "id": "FoBvDI1e7Epw",
        "outputId": "28465933-d7e2-4313-cb98-2d9188a8058b"
      },
      "execution_count": null,
      "outputs": [
        {
          "output_type": "stream",
          "name": "stdout",
          "text": [
            "Enter the number of terms: 7\n",
            "0\n",
            "1\n",
            "1\n",
            "2\n",
            "3\n",
            "5\n",
            "8\n",
            "[0, 1, 1, 2, 3, 5, 8, 13]\n",
            "8\n"
          ]
        }
      ]
    },
    {
      "cell_type": "markdown",
      "source": [
        "# PROBLEM 12\n",
        "\n",
        "Write a program to determine whether 'n' is a factorial number or not. Factorial of a number is the product of all positive numbers from 1 to 'n'. Input format: The input containing an integer 'n' which denotes the given number. Output format: If the given number is factorial, print \"Yes\". Otherwise, print \"No\". Refer the sample output for formatting.\n",
        "\n",
        "\n",
        "Input (stdin)\n",
        "\n",
        "6\n",
        "\n",
        "Output (stdout)\n",
        "\n",
        "Yes\n",
        "\n",
        "Input (stdin)\n",
        "\n",
        "2\n",
        "\n",
        "Output (stdout)\n",
        "\n",
        "Yes"
      ],
      "metadata": {
        "id": "B9pM29UsHXE7"
      }
    },
    {
      "cell_type": "code",
      "source": [
        "num = int(input(\"Enter a number: \"))\n",
        "a=[]\n",
        "factorial = 1\n",
        "for i in range(1, num + 1):\n",
        "    factorial *= i\n",
        "    a.append(factorial)\n",
        "print(a)\n",
        "if num in a:\n",
        "  print(\"Yes\")\n",
        "else:\n",
        "  print(\"No\")"
      ],
      "metadata": {
        "colab": {
          "base_uri": "https://localhost:8080/"
        },
        "id": "TZ8A0fo3JENK",
        "outputId": "bf0ce97f-bf11-405f-a608-c42417f7d21b"
      },
      "execution_count": null,
      "outputs": [
        {
          "output_type": "stream",
          "name": "stdout",
          "text": [
            "Enter a number: 6\n",
            "[1, 2, 6, 24, 120, 720]\n",
            "Yes\n"
          ]
        }
      ]
    },
    {
      "cell_type": "markdown",
      "source": [
        "# PROBLEM 13\n",
        "\n",
        "Description:\n",
        "A vending machine continues to accept money until the total amount entered reaches or exceeds 100. The program will display a message once the target is achieved.\n",
        "\n",
        "Input Format:\n",
        "\n",
        "Multiple integers, one per line, representing money input.\n",
        "Input terminates when the total reaches or exceeds 100.\n",
        "\n",
        "Output Format:\n",
        "\n",
        "Print Target achieved.\n",
        "\n",
        "Sample Input:\n",
        "20  \n",
        "30  \n",
        "50\n",
        "\n",
        "Sample Output:\n",
        "Target achieved"
      ],
      "metadata": {
        "id": "4mGZFEXUNJH7"
      }
    },
    {
      "cell_type": "markdown",
      "source": [],
      "metadata": {
        "id": "HcsoNvs9J2NB"
      }
    },
    {
      "cell_type": "code",
      "source": [
        "\n",
        "i=0\n",
        "while(i<101):\n",
        "  a=int(input())\n",
        "  i+=a\n",
        "  if i==100:\n",
        "    break\n",
        "\n",
        "print(\"Target achieved\")\n"
      ],
      "metadata": {
        "colab": {
          "base_uri": "https://localhost:8080/"
        },
        "id": "1pcI8iSiNKSd",
        "outputId": "2e1ffa14-0e69-4acf-8533-7fd408977ac0"
      },
      "execution_count": null,
      "outputs": [
        {
          "output_type": "stream",
          "name": "stdout",
          "text": [
            "10\n",
            "90\n",
            "Target achieved\n"
          ]
        }
      ]
    },
    {
      "cell_type": "markdown",
      "source": [
        "# PROBLEM 14\n",
        "\n",
        "A supervisor needs to identify how many employees worked overtime (more than 8 hours). The program will accept the working hours for 6 employees and display the count of overtime workers.\n",
        "\n",
        "Input Format:\n",
        "first line of input contains n value integer.\n",
        "next n integers.\n",
        "Output Format:\n",
        "Print Overtime workers: X, where X is the count.\n",
        "Sample Input:\n",
        "\n",
        "6\n",
        "\n",
        "7  \n",
        "9  \n",
        "8  \n",
        "10  \n",
        "6  \n",
        "9\n",
        "Sample Output:\n",
        "Overtime workers: 3"
      ],
      "metadata": {
        "id": "rtKb5T9BVW2H"
      }
    },
    {
      "cell_type": "code",
      "source": [
        "n=int(input())\n",
        "k=0\n",
        "for i in range(n):\n",
        "  j=int(input())\n",
        "  if j>8:\n",
        "    k+=1#if the value > 8 we will add k var with 1\n",
        "print(\"Overtime workers:\",k)"
      ],
      "metadata": {
        "colab": {
          "base_uri": "https://localhost:8080/"
        },
        "id": "ISW04JtWVcTg",
        "outputId": "a299faaa-d7fd-4e17-adf7-0853d45dc400"
      },
      "execution_count": null,
      "outputs": [
        {
          "output_type": "stream",
          "name": "stdout",
          "text": [
            "2\n",
            "90\n",
            "70\n",
            "Overtime workers: 2\n"
          ]
        }
      ]
    },
    {
      "cell_type": "markdown",
      "source": [
        "# PROBLEM 15\n",
        "A program calculates the sum of digits of an integer input using a while loop.\n",
        "\n",
        "Input Format:\n",
        "\n",
        "A single integer.\n",
        "\n",
        "Output Format:\n",
        "\n",
        "Print Sum of digits: X, where X is the sum.\n",
        "\n",
        "Sample Input:1234\n",
        "\n",
        "Sample Output:\n",
        "\n",
        "Sum of digits: 10"
      ],
      "metadata": {
        "id": "Us9wCrNdYTat"
      }
    },
    {
      "cell_type": "code",
      "source": [
        "n=int(input())\n",
        "sum=0\n",
        "while(n>0):\n",
        "  r=n%10\n",
        "  sum+=r\n",
        "  n//=10\n",
        "print(\"Sum of digits:\",sum)"
      ],
      "metadata": {
        "colab": {
          "base_uri": "https://localhost:8080/"
        },
        "id": "Cl5f9B1YYd6F",
        "outputId": "c823f483-4c68-4412-9fd7-bfd8db8e9a69"
      },
      "execution_count": null,
      "outputs": [
        {
          "output_type": "stream",
          "name": "stdout",
          "text": [
            "12345\n",
            "Sum of digits: 15\n"
          ]
        }
      ]
    },
    {
      "cell_type": "markdown",
      "source": [
        "# PROBLEM 16\n",
        "\n",
        "A program repeatedly sums the digits of a number until a single-digit result is obtained.\n",
        "\n",
        "Input Format:\n",
        "\n",
        "A single integer.\n",
        "\n",
        "Output Format:\n",
        "\n",
        "Print Single digit: X, where X is the result.\n",
        "\n",
        "Sample Input:\n",
        "\n",
        "Copy code\n",
        "\n",
        "987\n",
        "\n",
        "Sample Output:\n",
        "\n",
        "Single digit: 6"
      ],
      "metadata": {
        "id": "AuDSVmwFfJgh"
      }
    },
    {
      "cell_type": "code",
      "source": [
        "n=int(input())\n",
        "\n",
        "while(n>9):\n",
        "  sum=0\n",
        "  while(n>0):\n",
        "      r=n%10\n",
        "      sum+=r\n",
        "      n//=10\n",
        "  n=sum\n",
        "\n",
        "print(\"Sum of digits:\",n)"
      ],
      "metadata": {
        "colab": {
          "base_uri": "https://localhost:8080/"
        },
        "id": "xfDMqzumc28p",
        "outputId": "871e280e-f967-4e42-c296-d44e7d13272f"
      },
      "execution_count": null,
      "outputs": [
        {
          "output_type": "stream",
          "name": "stdout",
          "text": [
            "12345\n",
            "Sum of digits: 6\n"
          ]
        }
      ]
    },
    {
      "cell_type": "markdown",
      "source": [
        "# PROBLEM 17\n",
        "\n",
        "A program counts the number of words in a given sentence.\n",
        "\n",
        "Input Format:\n",
        "\n",
        "A single line of text.\n",
        "\n",
        "Output Format:\n",
        "\n",
        "Print Word count: X, where X is the number of words.\n",
        "\n",
        "Sample Input:\n",
        "\n",
        "I love programming.\n",
        "\n",
        "Sample Output:\n",
        "\n",
        "Word count: 3"
      ],
      "metadata": {
        "id": "WYv18qCSfO5d"
      }
    },
    {
      "cell_type": "code",
      "source": [
        "r=input().split()#.splite() is used to split a sentence in to words list or string\n",
        "print(r)\n",
        "print(\"Word count:\",len(r))#len() used to find the length of list\n",
        "\n",
        "# LOGIC 2\n",
        "\n",
        "print(len(input().split()))\n",
        "\n",
        "#LOGIC 3\n",
        "\n",
        "sentence = input()\n",
        "words = list(map(str.strip, sentence.split()))\n",
        "word_count = len(words)\n",
        "print(f\"Word count: {word_count}\")\n"
      ],
      "metadata": {
        "colab": {
          "base_uri": "https://localhost:8080/"
        },
        "id": "TOTGVyWKfYLC",
        "outputId": "533321eb-1a8e-4ae9-d577-f01cecea163a"
      },
      "execution_count": null,
      "outputs": [
        {
          "output_type": "stream",
          "name": "stdout",
          "text": [
            "I love programming\n",
            "['I', 'love', 'programming']\n",
            "Word count: 3\n"
          ]
        }
      ]
    },
    {
      "cell_type": "markdown",
      "source": [
        "## PROBLEM 18\n",
        "A program determines if a given number is an Armstrong number.\n",
        "\n",
        "Input Format:\n",
        "\n",
        "A single integer.\n",
        "\n",
        "Output Format:\n",
        "\n",
        "Print X is an Armstrong number or X is not an Armstrong number.\n",
        "\n",
        "Sample Input:\n",
        "\n",
        "153\n",
        "\n",
        "Sample Output:\n",
        "\n",
        "153 is an Armstrong number."
      ],
      "metadata": {
        "id": "xa6d8fXPjhRb"
      }
    },
    {
      "cell_type": "code",
      "source": [
        "n=int(input())\n",
        "sum=0\n",
        "temp=n\n",
        "n=len(str(n))\n",
        "print(temp)\n",
        "while n>0:\n",
        "  r=n%10\n",
        "  sum+=r**n\n",
        "  n//=10\n",
        "if sum==temp:\n",
        "  print(temp,\"is an Armstrong number\")\n",
        "else:\n",
        "  print(temp,\"is not an Armstrong number\")"
      ],
      "metadata": {
        "colab": {
          "base_uri": "https://localhost:8080/"
        },
        "id": "A_a45qHsjnhC",
        "outputId": "0bb1cb1d-5857-48c2-b302-5ab50f1e0620"
      },
      "execution_count": null,
      "outputs": [
        {
          "output_type": "stream",
          "name": "stdout",
          "text": [
            "123\n",
            "123\n",
            "123 is not an Armstrong number\n"
          ]
        }
      ]
    },
    {
      "cell_type": "markdown",
      "source": [
        "# PROBLEM 19\n",
        "Write a program to generate the following series 5, 16, 49, 104, 181... Input format: The input containing an integer which denotes 'n' Output format: Print the series and refer the sample output for formatting.\n",
        "\n",
        "\n",
        "Input (stdin)\n",
        "\n",
        "5\n",
        "Output (stdout)\n",
        "\n",
        "5\n",
        "16\n",
        "49\n",
        "104\n",
        "181\n",
        "\n",
        "Input (stdin)\n",
        "\n",
        "10\n",
        "\n",
        "Output (stdout)\n",
        "\n",
        "5\n",
        "16\n",
        "49\n",
        "104\n",
        "181\n",
        "280\n",
        "401\n",
        "544\n",
        "709\n",
        "896"
      ],
      "metadata": {
        "id": "pwRVjxre04uH"
      }
    },
    {
      "cell_type": "code",
      "source": [
        "n=int(input())\n",
        "t=5\n",
        "d=11\n",
        "for i in range (n):\n",
        "    print(t)\n",
        "    t+=d\n",
        "    d+=22"
      ],
      "metadata": {
        "colab": {
          "base_uri": "https://localhost:8080/"
        },
        "id": "Avho1t5Y1DuX",
        "outputId": "db4f2257-4fef-4ed6-dcfd-aa58eb0270cd"
      },
      "execution_count": 70,
      "outputs": [
        {
          "output_type": "stream",
          "name": "stdout",
          "text": [
            "5\n",
            "5\n",
            "16\n",
            "49\n",
            "104\n",
            "181\n"
          ]
        }
      ]
    },
    {
      "cell_type": "markdown",
      "source": [
        "# PATTREN\n",
        "TO print + in pattren\n"
      ],
      "metadata": {
        "id": "wqizM-Z54yhc"
      }
    },
    {
      "cell_type": "code",
      "source": [
        "#left pattren upper\n",
        "n=int(input())\n",
        "for i in range(1,n+1):\n",
        "  print('*'*i)\n",
        "  #print(\" \" * (n - i) + \"*\" * (2 * i - 1))\n",
        "print()"
      ],
      "metadata": {
        "colab": {
          "base_uri": "https://localhost:8080/"
        },
        "id": "SOw0HPpx4-g1",
        "outputId": "24122e4d-d3c3-40ab-caf6-0bcadd2913c5"
      },
      "execution_count": 123,
      "outputs": [
        {
          "output_type": "stream",
          "name": "stdout",
          "text": [
            "5\n",
            "*\n",
            "**\n",
            "***\n",
            "****\n",
            "*****\n",
            "\n"
          ]
        }
      ]
    },
    {
      "cell_type": "code",
      "source": [
        "#right pattren upper\n",
        "n=int(input())\n",
        "for i in range(1,n+1):\n",
        " # print('+'*i)\n",
        "  print(\" \" * (n - i) + \"*\" * i)\n",
        "print()"
      ],
      "metadata": {
        "colab": {
          "base_uri": "https://localhost:8080/"
        },
        "id": "X47Ek7cQ__9w",
        "outputId": "7f216a93-9b3d-4a6d-a440-e12e838d6c42"
      },
      "execution_count": 122,
      "outputs": [
        {
          "output_type": "stream",
          "name": "stdout",
          "text": [
            "5\n",
            "    *\n",
            "   **\n",
            "  ***\n",
            " ****\n",
            "*****\n",
            "\n"
          ]
        }
      ]
    },
    {
      "cell_type": "code",
      "source": [
        "#lower left\n",
        "n=int(input())\n",
        "for i in range(n,0,-1):\n",
        "  print(' * '*i)\n",
        "print()"
      ],
      "metadata": {
        "colab": {
          "base_uri": "https://localhost:8080/"
        },
        "id": "_gAjvvcB9IVD",
        "outputId": "59142c9d-ce7c-454c-9ae4-0ce1af932c47"
      },
      "execution_count": 116,
      "outputs": [
        {
          "output_type": "stream",
          "name": "stdout",
          "text": [
            "5\n",
            "*****\n",
            "****\n",
            "***\n",
            "**\n",
            "*\n",
            "\n"
          ]
        }
      ]
    },
    {
      "cell_type": "code",
      "source": [
        "#left lower\n",
        "n=int(input())\n",
        "for i in range(n,0,-1):\n",
        " # print('+'*i)\n",
        "  print(\" \" * (n - i) + \" * \" * i)\n",
        "print()"
      ],
      "metadata": {
        "colab": {
          "base_uri": "https://localhost:8080/"
        },
        "id": "gFXvOfs9A5OZ",
        "outputId": "eb58510d-33f9-4c9f-bf28-1710288e8e90"
      },
      "execution_count": 119,
      "outputs": [
        {
          "output_type": "stream",
          "name": "stdout",
          "text": [
            "5\n",
            "*****\n",
            " ****\n",
            "  ***\n",
            "   **\n",
            "    *\n",
            "\n"
          ]
        }
      ]
    },
    {
      "cell_type": "code",
      "source": [
        "#upper full triangle\n",
        "n=int(input())\n",
        "for i in range(1,n+1):\n",
        " # print('+'*i)\n",
        "  print(\" \" * (n - i) + \" * \" * (2 * i - 1))\n",
        "\n",
        "#lower full triangle\n",
        "for i in range(n,0,-1):\n",
        "  print(\" \" * (n - i) + \"*\" * (2 * i - 1))\n",
        "print()"
      ],
      "metadata": {
        "colab": {
          "base_uri": "https://localhost:8080/"
        },
        "id": "yxWPzU7l-TCv",
        "outputId": "ee21947b-8afa-4244-e2e8-868698593e43"
      },
      "execution_count": 118,
      "outputs": [
        {
          "output_type": "stream",
          "name": "stdout",
          "text": [
            "5\n",
            "    *\n",
            "   ***\n",
            "  *****\n",
            " *******\n",
            "*********\n",
            "*********\n",
            " *******\n",
            "  *****\n",
            "   ***\n",
            "    *\n",
            "\n"
          ]
        }
      ]
    },
    {
      "cell_type": "code",
      "source": [
        "n = int(input(\"Enter the size of the pattern: \"))\n",
        "\n",
        "for i in range(n):\n",
        "    for j in range(n):\n",
        "        if i == j:  # Check if the row and column indices are equal\n",
        "            print(\"*\", end=\"\")  # Print an asterisk for the diagonal\n",
        "        else:\n",
        "            print(\" \", end=\"\")  # Print a space otherwise\n",
        "    print()  # Move to the next line after each row"
      ],
      "metadata": {
        "colab": {
          "base_uri": "https://localhost:8080/"
        },
        "id": "05cdlheMFvoe",
        "outputId": "e65982f5-22c8-4961-d5c4-70bfe9de376f"
      },
      "execution_count": 124,
      "outputs": [
        {
          "output_type": "stream",
          "name": "stdout",
          "text": [
            "Enter the size of the pattern: 3\n",
            "*  \n",
            " * \n",
            "  *\n"
          ]
        }
      ]
    },
    {
      "cell_type": "code",
      "source": [
        "n = int(input(\"Enter the size of the pattern: \"))\n",
        "\n",
        "for i in range(n):\n",
        "    for j in range(n):\n",
        "        if i + j == n - 1:  # Check for right diagonal condition\n",
        "            print(\"*\", end=\"\")\n",
        "        else:\n",
        "            print(\" \", end=\"\")\n",
        "    print()"
      ],
      "metadata": {
        "colab": {
          "base_uri": "https://localhost:8080/"
        },
        "id": "ZFhM312dKf14",
        "outputId": "956ac40a-6e82-4f77-a250-1a0a6a87c4e0"
      },
      "execution_count": 125,
      "outputs": [
        {
          "output_type": "stream",
          "name": "stdout",
          "text": [
            "Enter the size of the pattern: 5\n",
            "    *\n",
            "   * \n",
            "  *  \n",
            " *   \n",
            "*    \n"
          ]
        }
      ]
    },
    {
      "cell_type": "markdown",
      "source": [
        "# middle empty square"
      ],
      "metadata": {
        "id": "0AcoepktMtwa"
      }
    },
    {
      "cell_type": "code",
      "source": [
        "n = int(input(\"Enter the size of the pattern: \"))\n",
        "\n",
        "for i in range(n):\n",
        "    for j in range(n):\n",
        "        if i == 0 or i == n - 1 or j == 0 or j == n - 1:  # Sides condition\n",
        "            print(\"*\", end=\" \")\n",
        "        else:\n",
        "            print(\" \", end=\" \")\n",
        "    print()"
      ],
      "metadata": {
        "colab": {
          "base_uri": "https://localhost:8080/"
        },
        "id": "qZTAS_B3KtkO",
        "outputId": "1ac00553-d253-4f18-cd46-24414fc90bcb"
      },
      "execution_count": 128,
      "outputs": [
        {
          "output_type": "stream",
          "name": "stdout",
          "text": [
            "Enter the size of the pattern: 5\n",
            "* * * * * \n",
            "*       * \n",
            "*       * \n",
            "*       * \n",
            "* * * * * \n"
          ]
        }
      ]
    },
    {
      "cell_type": "markdown",
      "source": [
        "# middle empty triangle"
      ],
      "metadata": {
        "id": "Z0ooM8L2Mq9B"
      }
    },
    {
      "cell_type": "code",
      "source": [
        "n = int(input(\"Enter the height of the triangle: \"))\n",
        "\n",
        "for i in range(1, n + 1):\n",
        "    for j in range(1, 2 * n):\n",
        "        if i == n or j == n - i + 1 or j == n + i - 1:  # Sides condition\n",
        "            print(\"*\", end=\"\")\n",
        "        else:\n",
        "            print(\" \", end=\"\")\n",
        "    print()"
      ],
      "metadata": {
        "colab": {
          "base_uri": "https://localhost:8080/"
        },
        "id": "BXIIHqEwLOCY",
        "outputId": "2d6d04d9-5825-4ebc-f1fa-097842449269"
      },
      "execution_count": 129,
      "outputs": [
        {
          "output_type": "stream",
          "name": "stdout",
          "text": [
            "Enter the height of the triangle: 3\n",
            "  *  \n",
            " * * \n",
            "*****\n"
          ]
        }
      ]
    },
    {
      "cell_type": "markdown",
      "source": [
        "# middle empty half triangle"
      ],
      "metadata": {
        "id": "W22U_GDBMgQ_"
      }
    },
    {
      "cell_type": "code",
      "source": [
        "n = int(input(\"Enter the height of the triangle: \"))\n",
        "\n",
        "for i in range(1, n + 1):\n",
        "    for j in range(1, i + 1):\n",
        "        if i == 1 or i == n or j == 1 or j == i:  # Sides condition\n",
        "            print(\"*\", end=\" \")\n",
        "        else:\n",
        "            print(\" \", end=\" \")\n",
        "    print()"
      ],
      "metadata": {
        "colab": {
          "base_uri": "https://localhost:8080/"
        },
        "id": "WFjcdCkMLLjB",
        "outputId": "206ca7e2-3898-4cc9-d197-08d853a7ae17"
      },
      "execution_count": 133,
      "outputs": [
        {
          "output_type": "stream",
          "name": "stdout",
          "text": [
            "Enter the height of the triangle: 4\n",
            "* \n",
            "* * \n",
            "*   * \n",
            "* * * * \n"
          ]
        }
      ]
    }
  ]
}